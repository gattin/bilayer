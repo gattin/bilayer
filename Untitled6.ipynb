{
 "cells": [
  {
   "cell_type": "code",
   "execution_count": 9,
   "metadata": {
    "button": false,
    "collapsed": false,
    "deletable": true,
    "new_sheet": false,
    "run_control": {
     "read_only": false
    }
   },
   "outputs": [],
   "source": [
    "import math as m\n",
    "import cmath as cm\n",
    "import scipy as sp\n",
    "import random as rn\n",
    "import string as s\n",
    "import matplotlib.pyplot as pl\n",
    "import numpy as np\n",
    "from numpy import linalg as LA\n",
    "import time\n",
    "%matplotlib inline\n",
    "start = time.time()\n",
    "th = 0\n",
    "\n",
    "Ho = 2\n",
    "th=0\n",
    "a=[1,-2*Ho*m.sin(th),(Ho**2-1),2*Ho*m.sin(th),-(Ho*m.sin(th))**2.0]\n",
    "valthm =np.roots(a)\n",
    "th1=(np.arcsin(valthm[3])).real\n",
    "h1 = m.sqrt((Ho*m.cos(th))**2+(Ho*m.sin(th)-m.sin(th1))**2)\n",
    "\n",
    "a=[1,2*Ho*m.sin(th),(Ho**2-1),2*Ho*m.sin(th),-(Ho*m.sin(th))**2.0]\n",
    "valthm =np.roots(a)\n",
    "th2=(np.arcsin(valthm[3])).real\n",
    "h2 = m.sqrt((Ho*m.cos(th))**2+(Ho*m.sin(th)-m.sin(th2))**2)\n",
    "\n",
    "\n",
    "phi=0\n",
    "d = 1\n",
    "lamb1 = 0\n",
    "lamb2 = 0\n",
    "lamb=0\n",
    "lo = 1/m.sqrt(3.0)\n",
    "l1=11/m.sqrt(3.0)\n",
    "l2=-l1\n",
    "nk=150\n",
    "nw=2*nk\n",
    "def pol1(w,k,Q,q,h):\n",
    "    ao=(d*Q**2)*(k**2*m.sin(th1)**2-q**2)-(Q**6*d**2+2*d*h*Q**4+Q**2*(h**2-w**2))\n",
    "    a6=d**2\n",
    "    a4=-d*(2*h+3*d*Q**2+m.cos(th1)**2.0)\n",
    "    a3=2*1j*d*k*m.sin(th1)\n",
    "    a1=1j*k*(h+d*Q**2)*m.sin(2*th1)\n",
    "    a2=3*d**2*Q**4+h**2-w**2+2*d*h*Q**2-(m.cos(th1)**2*(d*Q**2+h)+k*d*m.sin(th1)-d*q**2)\n",
    "    return np.array([a6,0.0,a4,a3,a2,a1,ao],dtype=np.complex_)\n",
    "def pol2(w,k,Q,q,h):\n",
    "    ao=(d*Q**2)*(k**2*m.sin(th2)**2-q**2)-(Q**6*d**2+2*d*h*Q**4+Q**2*(h**2-w**2))\n",
    "    a6=d**2\n",
    "    a4=-d*(2*h+3*d*Q**2+m.cos(th2)**2.0)\n",
    "    a3=2*1j*d*k*m.sin(th2)\n",
    "    a1=1j*k*(h+d*Q**2)*m.sin(2*th2)\n",
    "    a2=3*d**2*Q**4+h**2-w**2+2*d*h*Q**2-(m.cos(th2)**2*(d*Q**2+h)+k*d*m.sin(th2)-d*q**2)\n",
    "    return np.array([a6,0.0,a4,a3,a2,a1,ao],dtype=np.complex_)\n",
    "w=np.linspace(2,6,nw)\n",
    "\n",
    "dim=12\n",
    "QQ=np.linspace(0.0,2,nk)\n",
    "dets=np.zeros((nw,nk),dtype=np.complex_)\n",
    "\n",
    "def mt(w,q,k,d):\n",
    "    Q=m.sqrt(k**2+q**2)\n",
    "    M=np.zeros((dim,dim),dtype=np.complex_)\n",
    "    sol=np.zeros(dim,dtype=np.complex_)\n",
    "    lista=np.zeros(dim)\n",
    "    vals=np.zeros(dim,dtype=np.complex_)\n",
    "    alfa1=np.zeros(dim,dtype=np.complex_)\n",
    "    alfa2=np.zeros(dim,dtype=np.complex_)\n",
    "    alfa1=np.roots(pol1(w,k,Q,q,h1))\n",
    "    alfa2=np.roots(pol2(w,k,Q,q,h1))\n",
    "\n",
    "    for ind in range(6):\n",
    "        a2=alfa2[ind]\n",
    "        a1=alfa1[ind]\n",
    "        bp1 = q+alfa1[ind]*m.cos(th1)-1j*k*m.sin(th1)\n",
    "        dbp1 =d*(alfa1[ind]**2-Q**2)-h1+w\n",
    "        bm1 = q-alfa1[ind]*m.cos(th1)+1j*k*m.sin(th1)\n",
    "        dbm1= d*(alfa1[ind]**2-Q**2)-h1-w\n",
    "        bp2 = q+alfa2[ind]*m.cos(th2)-1j*k*m.sin(th2)\n",
    "        dbp2 =d*(alfa2[ind]**2-Q**2)-h2+w\n",
    "        bm2 = q-alfa2[ind]*m.cos(th2)+1j*k*m.sin(th2)\n",
    "        dbm2= d*(alfa2[ind]**2-Q**2)-h2-w\n",
    "        \n",
    "        a1lo=lo*alfa1[ind]\n",
    "        a2lo=lo*alfa2[ind]\n",
    "        a1l1=l1*alfa1[ind]\n",
    "        a2l2=l2*alfa2[ind]\n",
    "        b1 = m.cos(th1)*(bp1*dbm1 - bm1*dbp1)\n",
    "        b2 = m.cos(th2)*(bp2*dbm2 - bm2*dbp2)\n",
    "        a1pQ = alfa1[ind] + Q\n",
    "        a2mQ = alfa2[ind] - Q\n",
    "        a1sQc=a1*m.sinh(2*Q*lo)+Q*m.cosh(2*Q*lo)\n",
    "        a2sQc=a2*m.sinh(2*Q*lo)-Q*m.cosh(2*Q*lo)\n",
    "        l1ma1=lamb1*m.sin(th1)**2-a1\n",
    "        l2ma2=lamb2*m.sin(th2)**2-a2\n",
    "        M[ind, 0] = cm.exp(-a2l2)*m.sinh(2*Q*lo)*(2*a2mQ*dbm2*dbp2+b2)\n",
    "        M[ind, 1] =-cm.exp(-a2lo)*(2*a2sQc*dbm2*dbp2-b2*m.sinh(2*Q*lo))\n",
    "        M[ind, 2] = cm.exp(-a2l2)*m.sinh(2*Q*lo)*(bm2*dbp2*l2ma2+0.5*lamb2*m.cos(th2)*b2)\n",
    "        M[ind, 3] = cm.exp(-a2l2)*m.sinh(2*Q*lo)*(bp2*dbm2*l2ma2-0.5*lamb2*m.cos(th2)*b2)\n",
    "        M[ind, 4] =-cm.exp(-a2lo)*m.sinh(2*Q*lo)*(bm2*dbp2*l2ma2+0.5*lamb2*m.cos(th2)*b2)\n",
    "        M[ind, 5] =-cm.exp(-a2lo)*m.sinh(2*Q*lo)*(bp2*dbm2*l2ma2-0.5*lamb2*m.cos(th2)*b2)\n",
    "        M[ind, 6] =-2*cm.exp(-a2l2)*Q*dbm2*dbp2\n",
    "        M[ind, 7] = 0\n",
    "        M[ind, 8] = 0\n",
    "        M[ind, 9] = 0\n",
    "        M[ind, 10] = 0\n",
    "        M[ind, 11] = 0\n",
    "                                  \n",
    "        M[ind+6, 6] = cm.exp(a1lo)*(2*a1sQc*dbm1*dbp1+m.sinh(2*Q*lo)*b1)\n",
    "        M[ind+6, 7] = cm.exp(a1l1)*m.sinh(2*Q*lo)*(-2*a1pQ*dbm1*dbp1+b1)\n",
    "        M[ind+6, 8] =  cm.exp(a1lo)*m.sinh(2*Q*lo)*(bm1*dbp1*l1ma1+lamb1*0.5*m.cos(th1)*b1)\n",
    "        M[ind+6, 9] =  cm.exp(a1lo)*m.sinh(2*Q*lo)*(bp1*dbm1*l1ma1-lamb1*0.5*m.cos(th1)*b1)\n",
    "        M[ind+6, 10] =-cm.exp(a1l1)*m.sinh(2*Q*lo)*(bm1*dbp1*l1ma1+lamb1*0.5*m.cos(th1)*b1)\n",
    "        M[ind+6, 11] =-cm.exp(a1l1)*m.sinh(2*Q*lo)*(bp1*dbm1*l1ma1+lamb1*0.5*m.cos(th1)*b1)\n",
    "        M[ind+6, 0] =0\n",
    "        M[ind+6, 1] = -2*Q*cm.exp(a1lo)*dbm1*dbp1\n",
    "        M[ind+6, 2] = 0\n",
    "        M[ind+6, 3] = 0\n",
    "        M[ind+6, 4] = 0\n",
    "        M[ind+6, 5] = 0\n",
    "    #M = np.nan_to_num(M)\n",
    "    val=LA.eigvals(M)\n",
    "    del M\n",
    "    return np.prod(val)"
   ]
  },
  {
   "cell_type": "code",
   "execution_count": 10,
   "metadata": {
    "button": false,
    "collapsed": false,
    "deletable": true,
    "new_sheet": false,
    "run_control": {
     "read_only": false
    }
   },
   "outputs": [
    {
     "name": "stdout",
     "output_type": "stream",
     "text": [
      "30.119766235351562\n"
     ]
    }
   ],
   "source": [
    "for i in range(nw):\n",
    "    for j in range(nk):\n",
    "        dets[i,j]=mt(w[i],QQ[j]*m.sin(phi),QQ[j]*m.cos(phi),d)\n",
    "end = time.time()\n",
    "dets = np.nan_to_num(dets)\n",
    "print(end-start)"
   ]
  },
  {
   "cell_type": "code",
   "execution_count": 14,
   "metadata": {
    "button": false,
    "collapsed": false,
    "deletable": true,
    "new_sheet": false,
    "run_control": {
     "read_only": false
    }
   },
   "outputs": [
    {
     "data": {
      "image/png": "[encoded data removed]",
      "text/plain": [
       "<matplotlib.figure.Figure at 0x7ff53684f0f0>"
      ]
     },
     "metadata": {},
     "output_type": "display_data"
    }
   ],
   "source": [
    "\n",
    "X, Y = np.meshgrid(QQ,w)\n",
    "pl.figure()\n",
    "sig=1\n",
    "#img = sp.ndimage.filters.gaussian_filter(dets.real, sig)\n",
    "#CS = pl.contour(X,Y,dets.real)\n",
    "#pl.colorbar()\n",
    "#pl.show()\n",
    "#img = sp.ndimage.filters.gaussian_filter(dets.imag, sig)\n",
    "CS = pl.contour(X,Y,np.clip(dets.real,-100000,100000),[-1,0,1])\n",
    "pl.colorbar()\n",
    "pl.show()"
   ]
  },
  {
   "cell_type": "code",
   "execution_count": 31,
   "metadata": {
    "button": false,
    "collapsed": false,
    "deletable": true,
    "new_sheet": false,
    "run_control": {
     "read_only": false
    }
   },
   "outputs": [
    {
     "name": "stdout",
     "output_type": "stream",
     "text": [
      "(1.79769313486e+308+1.79769313486e+308j)\n"
     ]
    }
   ],
   "source": [
    "print(np.max(dets))"
   ]
  },
  {
   "cell_type": "code",
   "execution_count": 30,
   "metadata": {
    "button": false,
    "collapsed": false,
    "deletable": true,
    "new_sheet": false,
    "run_control": {
     "read_only": false
    }
   },
   "outputs": [
    {
     "data": {
      "text/plain": [
       "1.7976931348623157e+308"
      ]
     },
     "execution_count": 30,
     "metadata": {},
     "output_type": "execute_result"
    }
   ],
   "source": [
    "np.MachAr(float).xmax"
   ]
  },
  {
   "cell_type": "code",
   "execution_count": null,
   "metadata": {
    "collapsed": true,
    "run_control": {}
   },
   "outputs": [],
   "source": []
  }
 ],
 "metadata": {
  "kernelspec": {
   "display_name": "Python 3",
   "language": "python",
   "name": "python3"
  },
  "language_info": {
   "codemirror_mode": {
    "name": "ipython",
    "version": 3
   },
   "file_extension": ".py",
   "mimetype": "text/x-python",
   "name": "python",
   "nbconvert_exporter": "python",
   "pygments_lexer": "ipython3",
   "version": "3.4.3"
  }
 },
 "nbformat": 4,
 "nbformat_minor": 0
}
